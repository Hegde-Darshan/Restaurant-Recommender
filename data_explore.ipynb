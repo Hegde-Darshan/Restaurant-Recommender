{
 "cells": [
  {
   "cell_type": "code",
   "execution_count": 393,
   "metadata": {},
   "outputs": [],
   "source": [
    "import pandas as pd\n",
    "import numpy as np\n",
    "import re\n",
    "\n",
    "from matplotlib import pyplot as plt\n",
    "%matplotlib inline"
   ]
  },
  {
   "cell_type": "code",
   "execution_count": 394,
   "metadata": {},
   "outputs": [
    {
     "name": "stderr",
     "output_type": "stream",
     "text": [
      "<>:2: SyntaxWarning: invalid escape sequence '\\s'\n",
      "<>:2: SyntaxWarning: invalid escape sequence '\\s'\n",
      "C:\\Users\\lenovo\\AppData\\Local\\Temp\\ipykernel_15224\\1314801955.py:2: SyntaxWarning: invalid escape sequence '\\s'\n",
      "  data = pd.read_csv('data\\swiggy_file.csv')\n"
     ]
    }
   ],
   "source": [
    "\"\"\" importing csv as a dataframe \"\"\"\n",
    "data = pd.read_csv('data\\swiggy_file.csv')"
   ]
  },
  {
   "cell_type": "code",
   "execution_count": 395,
   "metadata": {},
   "outputs": [
    {
     "name": "stdout",
     "output_type": "stream",
     "text": [
      "<class 'pandas.core.frame.DataFrame'>\n",
      "RangeIndex: 140657 entries, 0 to 140656\n",
      "Data columns (total 10 columns):\n",
      " #   Column             Non-Null Count   Dtype \n",
      "---  ------             --------------   ----- \n",
      " 0   Restaurant Name    140657 non-null  object\n",
      " 1   Cuisine            140630 non-null  object\n",
      " 2   Rating             140657 non-null  object\n",
      " 3   Number of Ratings  126115 non-null  object\n",
      " 4   Average Price      140657 non-null  object\n",
      " 5   Number of Offers   140657 non-null  int64 \n",
      " 6   Offer Name         138849 non-null  object\n",
      " 7   Area               140655 non-null  object\n",
      " 8   Pure Veg           140657 non-null  object\n",
      " 9   Location           140657 non-null  object\n",
      "dtypes: int64(1), object(9)\n",
      "memory usage: 10.7+ MB\n"
     ]
    },
    {
     "data": {
      "text/plain": [
       "' \\nRating is a float value. Number of Ratings and Average price to be integers\\nCuisine is a list of items\\n'"
      ]
     },
     "execution_count": 395,
     "metadata": {},
     "output_type": "execute_result"
    }
   ],
   "source": [
    "#investigate columns\n",
    "data.info()\n",
    "\n",
    "\"\"\" \n",
    "Rating is a float value. Number of Ratings and Average price to be integers\n",
    "Cuisine is a list of items\n",
    "\"\"\""
   ]
  },
  {
   "cell_type": "code",
   "execution_count": 397,
   "metadata": {},
   "outputs": [],
   "source": [
    "#drop rows with missing values\n",
    "data.dropna(inplace=True)\n",
    "\n",
    "#drop unnecessary columns\n",
    "data.drop(columns=['Number of Offers', 'Offer Name'], inplace=True)"
   ]
  },
  {
   "cell_type": "code",
   "execution_count": 399,
   "metadata": {},
   "outputs": [
    {
     "name": "stdout",
     "output_type": "stream",
     "text": [
      "Rating\n",
      "0      18848\n",
      "4.3    13246\n",
      "4.2    12619\n",
      "4.1    10599\n",
      "4.4     8869\n",
      "4.0     8618\n",
      "3.8     6655\n",
      "3.9     6575\n",
      "4.5     5826\n",
      "3.7     4344\n",
      "4.6     3817\n",
      "3.5     3307\n",
      "3.6     3138\n",
      "4.7     2154\n",
      "5.0     2102\n",
      "3.4     2080\n",
      "3.3     2071\n",
      "4.8     1539\n",
      "3.2     1474\n",
      "3.0     1122\n",
      "3.1     1047\n",
      "4.9      704\n",
      "2.8      682\n",
      "2.9      680\n",
      "2.7      524\n",
      "2.5      388\n",
      "2.6      364\n",
      "2.4      275\n",
      "2.0      239\n",
      "2.3      234\n",
      "2.2      157\n",
      "2.1      120\n",
      "1.5       55\n",
      "1.9       32\n",
      "1.8       29\n",
      "1.7       28\n",
      "1.6       20\n",
      "1.4        6\n",
      "1.3        5\n",
      "1.0        3\n",
      "1.1        1\n",
      "1.2        1\n",
      "Name: count, dtype: int64\n"
     ]
    }
   ],
   "source": [
    "#handling Rating column\n",
    "print(data['Rating'].value_counts())\n",
    "\n",
    "\"\"\" \n",
    "Rating has NEW and -- as values, corresponding to new restaurant and not enough reviews by customers\n",
    "Will convert NEW and -- as 0 (so it doesn't come in the range of actual rating but still have those restaurants in data)\n",
    "\"\"\"\n",
    "\n",
    "data.loc[data['Rating'].isin(['NEW', '--']) , 'Rating'] = '0'"
   ]
  },
  {
   "cell_type": "code",
   "execution_count": 400,
   "metadata": {},
   "outputs": [
    {
     "name": "stderr",
     "output_type": "stream",
     "text": [
      "<>:5: SyntaxWarning: invalid escape sequence '\\d'\n",
      "<>:5: SyntaxWarning: invalid escape sequence '\\d'\n",
      "C:\\Users\\lenovo\\AppData\\Local\\Temp\\ipykernel_15224\\2634144580.py:5: SyntaxWarning: invalid escape sequence '\\d'\n",
      "  data['Number of Ratings'] = data['Number of Ratings'].str.extract('(^\\d+)')\n",
      "C:\\Users\\lenovo\\AppData\\Local\\Temp\\ipykernel_15224\\2634144580.py:6: FutureWarning: A value is trying to be set on a copy of a DataFrame or Series through chained assignment using an inplace method.\n",
      "The behavior will change in pandas 3.0. This inplace method will never work because the intermediate object on which we are setting values always behaves as a copy.\n",
      "\n",
      "For example, when doing 'df[col].method(value, inplace=True)', try using 'df.method({col: value}, inplace=True)' or df[col] = df[col].method(value) instead, to perform the operation inplace on the original object.\n",
      "\n",
      "\n",
      "  data['Number of Ratings'].fillna(0, inplace=True)\n"
     ]
    }
   ],
   "source": [
    "#Convert type of Rating column to float \n",
    "data['Rating'] = data['Rating'].astype('float32')\n",
    "\n",
    "#extract the number from the text Number of Ratings and fill NaN as 0 \n",
    "data['Number of Ratings'] = data['Number of Ratings'].str.extract('(^\\d+)')\n",
    "data['Number of Ratings'].fillna(0, inplace=True)\n",
    "\n",
    "data['Number of Ratings'] = data['Number of Ratings'].astype('int64')"
   ]
  },
  {
   "cell_type": "code",
   "execution_count": 401,
   "metadata": {},
   "outputs": [
    {
     "name": "stderr",
     "output_type": "stream",
     "text": [
      "<>:2: SyntaxWarning: invalid escape sequence '\\d'\n",
      "<>:2: SyntaxWarning: invalid escape sequence '\\d'\n",
      "C:\\Users\\lenovo\\AppData\\Local\\Temp\\ipykernel_15224\\2546772074.py:2: SyntaxWarning: invalid escape sequence '\\d'\n",
      "  data['Average Price'] = data['Average Price'].str.extract('(\\d+)')\n"
     ]
    }
   ],
   "source": [
    "#extract the number from average price column\n",
    "data['Average Price'] = data['Average Price'].str.extract('(\\d+)')\n",
    "data['Average Price'] = data['Average Price'].astype('int32')"
   ]
  },
  {
   "cell_type": "code",
   "execution_count": 402,
   "metadata": {},
   "outputs": [],
   "source": [
    "replacements = {' ': '', \n",
    "                '-': ''}\n",
    "\n",
    "data['Cuisine'] = data['Cuisine'].str.lower()\n",
    "data['Cuisine'] = data['Cuisine'].replace(replacements, regex=True)\n"
   ]
  },
  {
   "cell_type": "code",
   "execution_count": 403,
   "metadata": {},
   "outputs": [],
   "source": [
    "\n",
    "data.drop(data[data['Cuisine'].str.contains(r'[0-9!.()]', regex=True)].index, inplace=True)\n",
    "\n",
    "data.drop(data[data['Cuisine'].str.contains(r'^,|,$', regex=True)].index, inplace=True)\n",
    "data.drop(data[data['Cuisine'].str.contains('discount|foodvendor|navratri|popular', regex=True)].index, inplace=True)"
   ]
  },
  {
   "cell_type": "code",
   "execution_count": 404,
   "metadata": {},
   "outputs": [],
   "source": [
    "cuisine = data['Cuisine'].unique()\n",
    "all_cuisines = \",\".join(cuisine)\n",
    "\n",
    "cuisine_list = pd.Series(all_cuisines.split(',')).drop_duplicates().reset_index(drop=True)\n",
    "cuisine_list.to_csv('cuisines.csv', index=False)"
   ]
  },
  {
   "cell_type": "code",
   "execution_count": 405,
   "metadata": {},
   "outputs": [],
   "source": [
    "data['Pure Veg'] = data['Pure Veg'].apply(lambda x: 'nonveg' if x=='Yes' else 'veg')"
   ]
  },
  {
   "cell_type": "code",
   "execution_count": 406,
   "metadata": {},
   "outputs": [
    {
     "name": "stderr",
     "output_type": "stream",
     "text": [
      "<>:1: SyntaxWarning: invalid escape sequence '\\s'\n",
      "<>:1: SyntaxWarning: invalid escape sequence '\\s'\n",
      "C:\\Users\\lenovo\\AppData\\Local\\Temp\\ipykernel_15224\\849631923.py:1: SyntaxWarning: invalid escape sequence '\\s'\n",
      "  data.to_csv('data\\swiggy_cleaned.csv', index=False)\n"
     ]
    }
   ],
   "source": [
    "data.to_csv('data\\swiggy_cleaned.csv', index=False)"
   ]
  },
  {
   "cell_type": "code",
   "execution_count": null,
   "metadata": {},
   "outputs": [],
   "source": []
  }
 ],
 "metadata": {
  "kernelspec": {
   "display_name": "recSys_env",
   "language": "python",
   "name": "python3"
  },
  "language_info": {
   "codemirror_mode": {
    "name": "ipython",
    "version": 3
   },
   "file_extension": ".py",
   "mimetype": "text/x-python",
   "name": "python",
   "nbconvert_exporter": "python",
   "pygments_lexer": "ipython3",
   "version": "3.12.2"
  }
 },
 "nbformat": 4,
 "nbformat_minor": 2
}
