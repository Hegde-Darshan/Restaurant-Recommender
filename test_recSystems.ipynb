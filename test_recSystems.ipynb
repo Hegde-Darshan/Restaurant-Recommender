{
 "cells": [
  {
   "cell_type": "code",
   "execution_count": 417,
   "metadata": {},
   "outputs": [],
   "source": [
    "import pandas as pd\n",
    "import numpy as np\n",
    "import random as rd\n",
    "\n",
    "from sklearn.feature_extraction.text import CountVectorizer\n",
    "from sklearn.metrics.pairwise import cosine_similarity"
   ]
  },
  {
   "cell_type": "code",
   "execution_count": 418,
   "metadata": {},
   "outputs": [],
   "source": [
    "#reading csv\n",
    "restaurants = pd.read_csv(r\"data\\swiggy_cleaned.csv\")"
   ]
  },
  {
   "cell_type": "code",
   "execution_count": 419,
   "metadata": {},
   "outputs": [
    {
     "name": "stdout",
     "output_type": "stream",
     "text": [
      "100 3.427623107428994\n"
     ]
    }
   ],
   "source": [
    "#Constants here -\n",
    "MIN_VOTE_COUNT = int(restaurants['Number of Ratings'].quantile(0.85))\n",
    "AVERAGE_RATING = restaurants['Rating'].mean()\n",
    "\n",
    "print(MIN_VOTE_COUNT, AVERAGE_RATING)"
   ]
  },
  {
   "cell_type": "code",
   "execution_count": 420,
   "metadata": {},
   "outputs": [],
   "source": [
    "def revised_ratings(x : pd.DataFrame) -> pd.Series:\n",
    "    \"\"\"\n",
    "    returns a revised ratings based on average user rating and number of ratings\n",
    "    \"\"\"\n",
    "    return (x['Number of Ratings']*x['Rating']/(x['Number of Ratings']+MIN_VOTE_COUNT)) + (MIN_VOTE_COUNT*AVERAGE_RATING/(x['Number of Ratings']+MIN_VOTE_COUNT))\n",
    "\n",
    "\n",
    "restaurants['Revised Rating'] = restaurants.apply(revised_ratings, axis=1)\n"
   ]
  },
  {
   "cell_type": "code",
   "execution_count": 421,
   "metadata": {},
   "outputs": [],
   "source": [
    "#remove rows with negligible number of ratings - default <85P ratings and revised rating >= 3\n",
    "restaurants.drop(restaurants[(restaurants['Number of Ratings'] < MIN_VOTE_COUNT) | (restaurants['Revised Rating'] <= 3.5)].index, inplace=True)\n",
    "restaurants.reset_index(drop=True, inplace=True)\n",
    "\n",
    "restaurants.to_csv('models/restaurants.csv', index=False)"
   ]
  },
  {
   "cell_type": "markdown",
   "metadata": {},
   "source": [
    "# Top rated restaurants in the area"
   ]
  },
  {
   "cell_type": "code",
   "execution_count": 433,
   "metadata": {},
   "outputs": [],
   "source": [
    "#randomly selecting a Location from the list - emulating user selection\n",
    "def get_location()-> str:\n",
    "    \"\"\"\n",
    "    Returns a random location string from Location column\n",
    "    \"\"\"\n",
    "    return rd.sample(restaurants['Location'].unique().tolist(), 1)[0]\n",
    "\n",
    "LOCATION = get_location()\n",
    "\n",
    "\n",
    "#randomly selecting a restaurant from the current location - emulating user last order\n",
    "def get_restaurant()-> str:\n",
    "    \"\"\"\n",
    "    Returns a random restaurant name given the Location\n",
    "    \"\"\"\n",
    "    return rd.sample(restaurants[restaurants['Location'] == LOCATION]['Restaurant Name'].tolist(), 1)[0]\n",
    "    \n",
    "RESTAURANT = get_restaurant()"
   ]
  },
  {
   "cell_type": "code",
   "execution_count": 423,
   "metadata": {},
   "outputs": [
    {
     "name": "stdout",
     "output_type": "stream",
     "text": [
      "Kanchrapara Sahjadi Restora\n"
     ]
    },
    {
     "data": {
      "text/html": [
       "<div>\n",
       "<style scoped>\n",
       "    .dataframe tbody tr th:only-of-type {\n",
       "        vertical-align: middle;\n",
       "    }\n",
       "\n",
       "    .dataframe tbody tr th {\n",
       "        vertical-align: top;\n",
       "    }\n",
       "\n",
       "    .dataframe thead th {\n",
       "        text-align: right;\n",
       "    }\n",
       "</style>\n",
       "<table border=\"1\" class=\"dataframe\">\n",
       "  <thead>\n",
       "    <tr style=\"text-align: right;\">\n",
       "      <th></th>\n",
       "      <th>Restaurant Name</th>\n",
       "      <th>Cuisine</th>\n",
       "      <th>Rating</th>\n",
       "      <th>Average Price</th>\n",
       "      <th>Pure Veg</th>\n",
       "    </tr>\n",
       "  </thead>\n",
       "  <tbody>\n",
       "    <tr>\n",
       "      <th>13283</th>\n",
       "      <td>Chaurasia Pan Shop</td>\n",
       "      <td>paan</td>\n",
       "      <td>4.7</td>\n",
       "      <td>100</td>\n",
       "      <td>nonveg</td>\n",
       "    </tr>\n",
       "    <tr>\n",
       "      <th>13125</th>\n",
       "      <td>Vip Sweets Pvt. Ltd.</td>\n",
       "      <td>sweets</td>\n",
       "      <td>4.7</td>\n",
       "      <td>200</td>\n",
       "      <td>nonveg</td>\n",
       "    </tr>\n",
       "    <tr>\n",
       "      <th>13204</th>\n",
       "      <td>Land Of Cakes</td>\n",
       "      <td>bakery,desserts</td>\n",
       "      <td>4.7</td>\n",
       "      <td>200</td>\n",
       "      <td>nonveg</td>\n",
       "    </tr>\n",
       "    <tr>\n",
       "      <th>13234</th>\n",
       "      <td>Jain Sweets</td>\n",
       "      <td>sweets,beverages</td>\n",
       "      <td>4.6</td>\n",
       "      <td>100</td>\n",
       "      <td>nonveg</td>\n",
       "    </tr>\n",
       "    <tr>\n",
       "      <th>13139</th>\n",
       "      <td>Keventers Ice Cream</td>\n",
       "      <td>icecream,desserts</td>\n",
       "      <td>4.6</td>\n",
       "      <td>200</td>\n",
       "      <td>nonveg</td>\n",
       "    </tr>\n",
       "  </tbody>\n",
       "</table>\n",
       "</div>"
      ],
      "text/plain": [
       "            Restaurant Name            Cuisine  Rating  Average Price Pure Veg\n",
       "13283    Chaurasia Pan Shop               paan     4.7            100   nonveg\n",
       "13125  Vip Sweets Pvt. Ltd.             sweets     4.7            200   nonveg\n",
       "13204         Land Of Cakes    bakery,desserts     4.7            200   nonveg\n",
       "13234           Jain Sweets   sweets,beverages     4.6            100   nonveg\n",
       "13139   Keventers Ice Cream  icecream,desserts     4.6            200   nonveg"
      ]
     },
     "execution_count": 423,
     "metadata": {},
     "output_type": "execute_result"
    }
   ],
   "source": [
    "# Candidate selection\n",
    "print(LOCATION, RESTAURANT)\n",
    "all_candidates = restaurants[restaurants['Location'].str.contains(LOCATION)]\n",
    "\n",
    "# Candidate ranking\n",
    "candidates = all_candidates.sort_values(by='Revised Rating', ascending=False)\n",
    "\n",
    "# Candidate filtering\n",
    "top_in_area = candidates.drop(columns=['Location','Area','Revised Rating', 'Number of Ratings']).head(5)\n",
    "top_in_area"
   ]
  },
  {
   "cell_type": "markdown",
   "metadata": {},
   "source": [
    "# Based on the previous orders\n",
    "\n",
    "considering only Pure Veg and cuisines as features. Let's take only those restaurants that has revised rating >=3.5"
   ]
  },
  {
   "cell_type": "code",
   "execution_count": 425,
   "metadata": {},
   "outputs": [],
   "source": [
    "#Creating a index to the restaurant name for each location\n",
    "DATA_INDEX = restaurants[['Restaurant Name', 'Location']]"
   ]
  },
  {
   "cell_type": "code",
   "execution_count": 426,
   "metadata": {},
   "outputs": [],
   "source": [
    "# Make feature string - combining Cuisines and Pure Veg column\n",
    "def make_string(x):\n",
    "    return \" \".join(x['Cuisine'].split(',')) + \" \" + x['Pure Veg']\n",
    "\n",
    "restaurants['Cuisine Feature'] = restaurants.apply(make_string, axis=1)\n",
    "\n",
    "#Drop unnecessary columns\n",
    "restaurants.drop(columns=['Cuisine','Pure Veg', 'Area','Rating','Number of Ratings'], inplace=True)"
   ]
  },
  {
   "cell_type": "code",
   "execution_count": 428,
   "metadata": {},
   "outputs": [],
   "source": [
    "#vectorize feature - converting each feature string as a sparse metrix using vocabulary of the whole feature colunmn\n",
    "vectorizer = CountVectorizer(stop_words='english')\n",
    "vector_matrix = vectorizer.fit_transform(restaurants['Cuisine Feature'])\n",
    "\n",
    "#construct similarity matrix usine cosine similarity\n",
    "RESTAURANT_SIMILARITY = cosine_similarity(vector_matrix)"
   ]
  },
  {
   "cell_type": "code",
   "execution_count": 430,
   "metadata": {},
   "outputs": [],
   "source": [
    "#filter for region\n",
    "def filter_on_location():\n",
    "    \"\"\"\n",
    "    Returns a list of indices - restaurants in the current area for restaurant index\n",
    "    \"\"\"\n",
    "    return DATA_INDEX[DATA_INDEX['Location'] == LOCATION].index\n",
    "\n",
    "\n",
    "def get_recommendations(top_n : int = 4) -> pd.DataFrame:\n",
    "    \"\"\"\n",
    "    Returns a frame of recommended restaurants based on the cosine similarity of restaurants in the area\n",
    "\n",
    "    1. recommend - number of items to recommend\n",
    "    \"\"\"\n",
    "    restaurant_idx  = DATA_INDEX[(DATA_INDEX['Restaurant Name'] == RESTAURANT) & (DATA_INDEX['Location'] == LOCATION)].index[0]\n",
    "    restaurants_in_area = filter_on_location()\n",
    "\n",
    "    #list of tuples (idx, similarity value)\n",
    "    similarity_for_X = list(enumerate(RESTAURANT_SIMILARITY[restaurant_idx]))\n",
    "\n",
    "    #list of only those tuples from the same location\n",
    "    similarity_in_area = [ x for x in similarity_for_X if x[0] in restaurants_in_area]\n",
    "    #sort by similarity values\n",
    "    similarity_in_area = sorted(similarity_in_area, key= lambda x: x[1], reverse=True)\n",
    "\n",
    "    return DATA_INDEX.iloc[[item[0] for item in similarity_in_area[:top_n]]]\n",
    "\n",
    "\n",
    "def randomize_recommendations(top_recommends : pd.DataFrame, recommend : int = 4) -> pd.DataFrame:\n",
    "    \"\"\" \n",
    "    Returns random 'n' samples as final recommendation\n",
    "    \n",
    "    1. top_recommends - top_n recommendation as calculated \n",
    "    2. recommend - number of samples to return\n",
    "    \"\"\"\n",
    "    return top_recommends.sample(recommend)"
   ]
  },
  {
   "cell_type": "code",
   "execution_count": 434,
   "metadata": {},
   "outputs": [
    {
     "name": "stdout",
     "output_type": "stream",
     "text": [
      "Because you ordered from Sangeetha Veg Restaurant in Thiruvarur\n",
      "we recommend \n",
      " Manikandan Mess\n",
      "Hotel Saravana Bhavan\n",
      "Kamatchi Amman Hotel &Sweets\n",
      "Sangeetha Veg Restaurant\n"
     ]
    }
   ],
   "source": [
    "print('Because you ordered from {} in {}'.format(RESTAURANT, LOCATION))\n",
    "top_recommendations = get_recommendations()\n",
    "recommendations_randomized = randomize_recommendations(top_recommendations)\n",
    "print('we recommend \\n {}'.format( \"\\n\".join(recommendations_randomized['Restaurant Name'].tolist())))"
   ]
  },
  {
   "cell_type": "code",
   "execution_count": 432,
   "metadata": {},
   "outputs": [],
   "source": [
    "#dump DATA-INDEX and similarity matrix, and vectorizer object\n",
    "\n",
    "import pickle\n",
    "\n",
    "with open('models/vectorizer.pkl', 'wb') as file:\n",
    "    pickle.dump(vectorizer, file)\n",
    "\n",
    "with open('models/vectors.pkl', 'wb') as file:\n",
    "    pickle.dump(vector_matrix,file)\n",
    "\n",
    "with open('models/restaurant_sim.pkl', 'wb') as file:\n",
    "    pickle.dump(RESTAURANT_SIMILARITY, file)\n"
   ]
  }
 ],
 "metadata": {
  "kernelspec": {
   "display_name": "recSys_env",
   "language": "python",
   "name": "python3"
  },
  "language_info": {
   "codemirror_mode": {
    "name": "ipython",
    "version": 3
   },
   "file_extension": ".py",
   "mimetype": "text/x-python",
   "name": "python",
   "nbconvert_exporter": "python",
   "pygments_lexer": "ipython3",
   "version": "3.12.2"
  }
 },
 "nbformat": 4,
 "nbformat_minor": 2
}
